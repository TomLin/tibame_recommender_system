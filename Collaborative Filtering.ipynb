{
 "cells": [
  {
   "cell_type": "code",
   "execution_count": 1,
   "metadata": {},
   "outputs": [],
   "source": [
    "import numpy as np\n",
    "import pandas as pd"
   ]
  },
  {
   "cell_type": "code",
   "execution_count": 2,
   "metadata": {},
   "outputs": [
    {
     "data": {
      "text/html": [
       "<div>\n",
       "<style scoped>\n",
       "    .dataframe tbody tr th:only-of-type {\n",
       "        vertical-align: middle;\n",
       "    }\n",
       "\n",
       "    .dataframe tbody tr th {\n",
       "        vertical-align: top;\n",
       "    }\n",
       "\n",
       "    .dataframe thead th {\n",
       "        text-align: right;\n",
       "    }\n",
       "</style>\n",
       "<table border=\"1\" class=\"dataframe\">\n",
       "  <thead>\n",
       "    <tr style=\"text-align: right;\">\n",
       "      <th></th>\n",
       "      <th>userId</th>\n",
       "      <th>movieId</th>\n",
       "      <th>rating</th>\n",
       "      <th>timestamp</th>\n",
       "    </tr>\n",
       "  </thead>\n",
       "  <tbody>\n",
       "    <tr>\n",
       "      <th>0</th>\n",
       "      <td>1</td>\n",
       "      <td>31</td>\n",
       "      <td>2.5</td>\n",
       "      <td>1260759144</td>\n",
       "    </tr>\n",
       "    <tr>\n",
       "      <th>1</th>\n",
       "      <td>1</td>\n",
       "      <td>1029</td>\n",
       "      <td>3.0</td>\n",
       "      <td>1260759179</td>\n",
       "    </tr>\n",
       "    <tr>\n",
       "      <th>2</th>\n",
       "      <td>1</td>\n",
       "      <td>1061</td>\n",
       "      <td>3.0</td>\n",
       "      <td>1260759182</td>\n",
       "    </tr>\n",
       "    <tr>\n",
       "      <th>3</th>\n",
       "      <td>1</td>\n",
       "      <td>1129</td>\n",
       "      <td>2.0</td>\n",
       "      <td>1260759185</td>\n",
       "    </tr>\n",
       "    <tr>\n",
       "      <th>4</th>\n",
       "      <td>1</td>\n",
       "      <td>1172</td>\n",
       "      <td>4.0</td>\n",
       "      <td>1260759205</td>\n",
       "    </tr>\n",
       "  </tbody>\n",
       "</table>\n",
       "</div>"
      ],
      "text/plain": [
       "   userId  movieId  rating   timestamp\n",
       "0       1       31     2.5  1260759144\n",
       "1       1     1029     3.0  1260759179\n",
       "2       1     1061     3.0  1260759182\n",
       "3       1     1129     2.0  1260759185\n",
       "4       1     1172     4.0  1260759205"
      ]
     },
     "execution_count": 2,
     "metadata": {},
     "output_type": "execute_result"
    }
   ],
   "source": [
    "rating_df = pd.read_csv('the-movies-dataset/ratings_small.csv')\n",
    "rating_df.head()"
   ]
  },
  {
   "cell_type": "code",
   "execution_count": 3,
   "metadata": {
    "scrolled": true
   },
   "outputs": [
    {
     "data": {
      "text/plain": [
       "(100004, 4)"
      ]
     },
     "execution_count": 3,
     "metadata": {},
     "output_type": "execute_result"
    }
   ],
   "source": [
    "rating_df.shape"
   ]
  },
  {
   "cell_type": "code",
   "execution_count": 4,
   "metadata": {},
   "outputs": [
    {
     "data": {
      "text/plain": [
       "userId         671\n",
       "movieId       9066\n",
       "rating          10\n",
       "timestamp    78141\n",
       "dtype: int64"
      ]
     },
     "execution_count": 4,
     "metadata": {},
     "output_type": "execute_result"
    }
   ],
   "source": [
    "rating_df.nunique()"
   ]
  },
  {
   "cell_type": "code",
   "execution_count": 5,
   "metadata": {},
   "outputs": [
    {
     "data": {
      "text/html": [
       "<div>\n",
       "<style scoped>\n",
       "    .dataframe tbody tr th:only-of-type {\n",
       "        vertical-align: middle;\n",
       "    }\n",
       "\n",
       "    .dataframe tbody tr th {\n",
       "        vertical-align: top;\n",
       "    }\n",
       "\n",
       "    .dataframe thead th {\n",
       "        text-align: right;\n",
       "    }\n",
       "</style>\n",
       "<table border=\"1\" class=\"dataframe\">\n",
       "  <thead>\n",
       "    <tr style=\"text-align: right;\">\n",
       "      <th></th>\n",
       "      <th>userId</th>\n",
       "      <th>movieId</th>\n",
       "      <th>rating</th>\n",
       "      <th>timestamp</th>\n",
       "    </tr>\n",
       "  </thead>\n",
       "  <tbody>\n",
       "    <tr>\n",
       "      <th>52635</th>\n",
       "      <td>383</td>\n",
       "      <td>21</td>\n",
       "      <td>3.0</td>\n",
       "      <td>789652009</td>\n",
       "    </tr>\n",
       "    <tr>\n",
       "      <th>52641</th>\n",
       "      <td>383</td>\n",
       "      <td>47</td>\n",
       "      <td>5.0</td>\n",
       "      <td>789652009</td>\n",
       "    </tr>\n",
       "    <tr>\n",
       "      <th>52684</th>\n",
       "      <td>383</td>\n",
       "      <td>1079</td>\n",
       "      <td>3.0</td>\n",
       "      <td>789652009</td>\n",
       "    </tr>\n",
       "    <tr>\n",
       "      <th>56907</th>\n",
       "      <td>409</td>\n",
       "      <td>21</td>\n",
       "      <td>5.0</td>\n",
       "      <td>828212412</td>\n",
       "    </tr>\n",
       "    <tr>\n",
       "      <th>56909</th>\n",
       "      <td>409</td>\n",
       "      <td>25</td>\n",
       "      <td>4.0</td>\n",
       "      <td>828212412</td>\n",
       "    </tr>\n",
       "  </tbody>\n",
       "</table>\n",
       "</div>"
      ],
      "text/plain": [
       "       userId  movieId  rating  timestamp\n",
       "52635     383       21     3.0  789652009\n",
       "52641     383       47     5.0  789652009\n",
       "52684     383     1079     3.0  789652009\n",
       "56907     409       21     5.0  828212412\n",
       "56909     409       25     4.0  828212412"
      ]
     },
     "execution_count": 5,
     "metadata": {},
     "output_type": "execute_result"
    }
   ],
   "source": [
    "# sort data frame by timestemp for splitting\n",
    "rating_df = rating_df.sort_values('timestamp')\n",
    "rating_df.head()"
   ]
  },
  {
   "cell_type": "code",
   "execution_count": 6,
   "metadata": {},
   "outputs": [],
   "source": [
    "# map user id and movie id to integer starting from 0 to N (num of users) and M (num of movies)\n",
    "from sklearn.preprocessing import LabelEncoder\n",
    "user_encoder = LabelEncoder()\n",
    "movie_encoder = LabelEncoder()\n",
    "\n",
    "user_ids = user_encoder.fit_transform(rating_df.userId)\n",
    "movie_ids = movie_encoder.fit_transform(rating_df.movieId)"
   ]
  },
  {
   "cell_type": "code",
   "execution_count": 7,
   "metadata": {},
   "outputs": [],
   "source": [
    "num_train = int(len(user_ids) * 0.8)\n",
    "train_user_ids = user_ids[:num_train]\n",
    "train_movie_ids = movie_ids[:num_train]\n",
    "train_ratings = rating_df.rating.values[:num_train]\n",
    "val_user_ids = user_ids[num_train:]\n",
    "val_movie_ids = movie_ids[num_train:]\n",
    "val_ratings = rating_df.rating.values[num_train:]"
   ]
  },
  {
   "cell_type": "code",
   "execution_count": 8,
   "metadata": {
    "scrolled": false
   },
   "outputs": [
    {
     "data": {
      "text/plain": [
       "array([[0., 0., 0., ..., 0., 0., 0.],\n",
       "       [0., 0., 0., ..., 0., 0., 0.],\n",
       "       [0., 0., 0., ..., 0., 0., 0.],\n",
       "       ...,\n",
       "       [0., 0., 0., ..., 0., 0., 0.],\n",
       "       [4., 0., 0., ..., 0., 0., 0.],\n",
       "       [5., 0., 0., ..., 0., 0., 0.]])"
      ]
     },
     "execution_count": 8,
     "metadata": {},
     "output_type": "execute_result"
    }
   ],
   "source": [
    "# set up user-movie matrix\n",
    "num_users = user_ids.max() + 1\n",
    "num_movies = movie_ids.max() + 1\n",
    "user2movie = np.zeros([num_users, num_movies])\n",
    "user2movie[train_user_ids, train_movie_ids] = train_ratings\n",
    "user2movie"
   ]
  },
  {
   "cell_type": "code",
   "execution_count": 38,
   "metadata": {
    "scrolled": true
   },
   "outputs": [
    {
     "name": "stderr",
     "output_type": "stream",
     "text": [
      "/Users/steevehuang/miniconda3/envs/py36/lib/python3.6/site-packages/ipykernel_launcher.py:22: RuntimeWarning: invalid value encountered in double_scalars\n",
      "/Users/steevehuang/miniconda3/envs/py36/lib/python3.6/site-packages/ipykernel_launcher.py:15: RuntimeWarning: invalid value encountered in double_scalars\n",
      "  from ipykernel import kernelapp as app\n",
      "/Users/steevehuang/miniconda3/envs/py36/lib/python3.6/site-packages/ipykernel_launcher.py:14: RuntimeWarning: invalid value encountered in double_scalars\n",
      "  \n"
     ]
    },
    {
     "data": {
      "text/plain": [
       "array([[ 1.        ,         nan,         nan, ...,  1.        ,\n",
       "                nan, -1.        ],\n",
       "       [        nan,  1.        , -0.01606095, ..., -0.95740201,\n",
       "        -0.49446359,  0.57048961],\n",
       "       [        nan, -0.01606095,  1.        , ...,  0.97327676,\n",
       "        -0.08336072,  0.52261992],\n",
       "       ...,\n",
       "       [        nan,  0.3103714 ,  0.13950249, ..., -0.44308725,\n",
       "         0.4618251 ,  0.08969916],\n",
       "       [ 1.        ,  0.1755357 , -0.37364627, ...,  1.        ,\n",
       "         0.42145455,  0.40640584],\n",
       "       [        nan, -0.16227767,  0.59686456, ..., -0.37286939,\n",
       "        -0.02181995,  0.50435832]])"
      ]
     },
     "execution_count": 38,
     "metadata": {},
     "output_type": "execute_result"
    }
   ],
   "source": [
    "# compute similarity\n",
    "def pearson_correlation(x,y):\n",
    "    '''\n",
    "    Compute the pearson correlation for x and y.\n",
    "    args:\n",
    "        x: np.array\n",
    "        y: np.array\n",
    "    '''\n",
    "    \n",
    "    # set up filters for entries where x and y are both non zero\n",
    "    filt = (x != 0) * (y != 0)\n",
    "    \n",
    "    # compute mean for x and y\n",
    "    x_mean = x.sum() / x[x!=0].shape[0]\n",
    "    y_mean = y.sum() / y[y!=0].shape[0]\n",
    "    \n",
    "    # consider only entries based on the previous filter\n",
    "    x = x[filt]\n",
    "    y = y[filt]\n",
    "    \n",
    "    # compute correlation\n",
    "    corr = np.sum((x - x_mean) * (y-y_mean)) / (np.sum((y-y_mean) ** 2) * np.sum((x-x_mean) ** 2) ) ** 0.5\n",
    "    \n",
    "    return corr\n",
    "\n",
    "def compute_user_similarity_matrix(user2movie):\n",
    "    '''\n",
    "    Compute user similarity matrix\n",
    "    args:\n",
    "        user2movie: np.array, user-movie rating matrix\n",
    "    returns:\n",
    "        similarity_matrix: np.array, user 2 user similarity\n",
    "    \n",
    "    '''\n",
    "    # initialize similarity matrix\n",
    "    similarity_matrix = np.zeros([num_users, num_users])\n",
    "    \n",
    "    for i in range(len(user2movie)):\n",
    "        for j in range(i, len(user2movie)):\n",
    "            \n",
    "            # compute correlation\n",
    "            corr = pearson_correlation(user2movie[i],user2movie[j])\n",
    "            \n",
    "            # store correlation in matrix\n",
    "            similarity_matrix[i,j] = corr\n",
    "            similarity_matrix[j,i] = corr\n",
    "            \n",
    "    return similarity_matrix\n",
    "\n",
    "similarity_matrix = compute_user_similarity_matrix(user2movie)\n",
    "similarity_matrix[:10]"
   ]
  },
  {
   "cell_type": "code",
   "execution_count": 10,
   "metadata": {},
   "outputs": [
    {
     "data": {
      "text/plain": [
       "array([[ 0.        ,  0.        ,  0.        , ...,  1.        ,\n",
       "         0.        , -1.        ],\n",
       "       [ 0.        ,  0.        , -0.01606095, ..., -0.95740201,\n",
       "        -0.49446359,  0.57048961],\n",
       "       [ 0.        , -0.01606095,  0.        , ...,  0.97327676,\n",
       "        -0.08336072,  0.52261992],\n",
       "       ...,\n",
       "       [ 0.        ,  0.3103714 ,  0.13950249, ..., -0.44308725,\n",
       "         0.4618251 ,  0.08969916],\n",
       "       [ 1.        ,  0.1755357 , -0.37364627, ...,  1.        ,\n",
       "         0.42145455,  0.40640584],\n",
       "       [ 0.        , -0.16227767,  0.59686456, ..., -0.37286939,\n",
       "        -0.02181995,  0.50435832]])"
      ]
     },
     "execution_count": 10,
     "metadata": {},
     "output_type": "execute_result"
    }
   ],
   "source": [
    "# set similarity with itself to 0\n",
    "similarity_matrix[np.arange(num_users), np.arange(num_users)] = 0\n",
    "similarity_matrix[np.isnan(similarity_matrix)] = 0\n",
    "similarity_matrix[:10]"
   ]
  },
  {
   "cell_type": "code",
   "execution_count": 11,
   "metadata": {
    "scrolled": true
   },
   "outputs": [
    {
     "name": "stderr",
     "output_type": "stream",
     "text": [
      "/Users/steevehuang/miniconda3/envs/py36/lib/python3.6/site-packages/ipykernel_launcher.py:11: RuntimeWarning: invalid value encountered in true_divide\n",
      "  # This is added back by InteractiveShellApp.init_path()\n",
      "/Users/steevehuang/miniconda3/envs/py36/lib/python3.6/site-packages/ipykernel_launcher.py:23: RuntimeWarning: invalid value encountered in true_divide\n"
     ]
    },
    {
     "data": {
      "text/plain": [
       "array([[2.60394488, 2.52142328, 2.53811983, ..., 2.55      , 2.55      ,\n",
       "        2.55      ],\n",
       "       [3.51715353, 3.4744639 , 3.4901902 , ..., 3.48684211, 3.48684211,\n",
       "        3.48684211],\n",
       "       [3.56477871, 3.56355235, 3.55132752, ..., 3.56862745, 3.56862745,\n",
       "        3.56862745],\n",
       "       ...,\n",
       "       [3.93543738, 3.86472265, 3.83789392, ..., 3.86637931, 3.86637931,\n",
       "        3.86637931],\n",
       "       [3.86998992, 3.73762887, 3.72502154, ..., 3.75555556, 3.75555556,\n",
       "        3.75555556],\n",
       "       [3.79613736, 3.6997219 , 3.66718739, ..., 3.69565217, 3.69565217,\n",
       "        3.69565217]])"
      ]
     },
     "execution_count": 11,
     "metadata": {},
     "output_type": "execute_result"
    }
   ],
   "source": [
    "def compute_ucf(user2movie, similarity_matrix):\n",
    "    '''\n",
    "    Compute prediction scores for all movies\n",
    "    args:\n",
    "        user2movie: np.array, user-movie rating matrix\n",
    "    returns:\n",
    "        scores: np.array, predicted scores of each video for the target user\n",
    "    '''\n",
    "\n",
    "    # compute mean rating yk, ignoring zero entries, shape:(num_users)\n",
    "    mean_ratings = np.sum(user2movie, axis=1) / (user2movie != 0 ).sum(axis=1)\n",
    "    \n",
    "    # compute ykj - yk, shape:(num_users, num_movies)\n",
    "    user2movie_diff = user2movie - np.expand_dims(mean_ratings, 1)\n",
    "    \n",
    "    # compute sum of similarities Σsimik, (num_users,)\n",
    "    sim_sum = np.sum(np.abs(similarity_matrix), axis=1)\n",
    "        \n",
    "    # don't sum the unknown entries, set them to 0        \n",
    "    user2movie_diff[np.where(user2movie == 0) ] = 0\n",
    "\n",
    "    # compute weighted sum of rating diff (num_users, num_movies)\n",
    "    weighted_sum = np.matmul(similarity_matrix, user2movie_diff) / np.expand_dims(sim_sum, 1)\n",
    "\n",
    "    # add weighted sum to mean ratings\n",
    "    scores =  weighted_sum + np.expand_dims(mean_ratings, 1)\n",
    "    \n",
    "    return  scores\n",
    "\n",
    "predictions = compute_ucf(user2movie, similarity_matrix) \n",
    "predictions[:10]"
   ]
  },
  {
   "cell_type": "code",
   "execution_count": 12,
   "metadata": {},
   "outputs": [],
   "source": [
    "# credit to https://gist.github.com/bwhite/3726239\n",
    "def dcg_at_k(r, k):\n",
    "    '''\n",
    "    Compute DCG\n",
    "    args:\n",
    "        r: np.array, to be evaluated\n",
    "        k: int, number of entries to be considered\n",
    "    \n",
    "    returns:\n",
    "        dcg: float, computed dcg\n",
    "        \n",
    "    '''\n",
    "    r = r[:k]\n",
    "    dcg = np.sum(r / np.log2(np.arange(2, len(r) + 2)))\n",
    "    return dcg\n"
   ]
  },
  {
   "cell_type": "code",
   "execution_count": 13,
   "metadata": {},
   "outputs": [],
   "source": [
    "def ndcg_at_k(r, k, method=0):\n",
    "    '''\n",
    "    Compute NDCG\n",
    "    args:\n",
    "        r: np.array, to be evaluated\n",
    "        k: int, number of entries to be considered\n",
    "    \n",
    "    returns:\n",
    "        dcg: float, computed ndcg\n",
    "        \n",
    "    '''\n",
    "    dcg_max = dcg_at_k(sorted(r, reverse=True), k)\n",
    "\n",
    "    return dcg_at_k(r, k) / dcg_max"
   ]
  },
  {
   "cell_type": "code",
   "execution_count": 14,
   "metadata": {
    "scrolled": false
   },
   "outputs": [
    {
     "data": {
      "text/plain": [
       "0.8326887437634239"
      ]
     },
     "execution_count": 14,
     "metadata": {},
     "output_type": "execute_result"
    }
   ],
   "source": [
    "# compute average ndcg for all users\n",
    "def evaluate_prediction(predictions):\n",
    "    '''\n",
    "    Return the average ndcg for each users\n",
    "    args:\n",
    "        predictions: np.array user-item predictions\n",
    "    returns:\n",
    "        ndcg: float, computed NDCG\n",
    "    '''\n",
    "    ndcgs = []\n",
    "    # iterate\n",
    "    for target_user in np.unique(val_user_ids):\n",
    "        # get movie ids and ratings associated with the target user.\n",
    "        target_val_movie_ids = val_movie_ids[val_user_ids == target_user] \n",
    "        target_val_ratings = val_ratings[val_user_ids == target_user] \n",
    "        \n",
    "        # compute ndcg for this user\n",
    "        ndcg = ndcg_at_k(target_val_ratings[np.argsort(-predictions[target_user][target_val_movie_ids])], k=30)\n",
    "        ndcgs.append(ndcg)\n",
    "    ndcg = np.mean(ndcgs)\n",
    "    return ndcg\n",
    "evaluate_prediction(predictions)"
   ]
  },
  {
   "cell_type": "code",
   "execution_count": 66,
   "metadata": {
    "scrolled": true
   },
   "outputs": [
    {
     "name": "stderr",
     "output_type": "stream",
     "text": [
      "/Users/steevehuang/miniconda3/envs/py36/lib/python3.6/site-packages/ipykernel_launcher.py:10: RuntimeWarning: invalid value encountered in true_divide\n",
      "  # Remove the CWD from sys.path while we load stuff.\n",
      "/Users/steevehuang/miniconda3/envs/py36/lib/python3.6/site-packages/ipykernel_launcher.py:18: RuntimeWarning: invalid value encountered in true_divide\n"
     ]
    },
    {
     "data": {
      "text/plain": [
       "array([[ 1.        ,  0.32949699,  0.14883085, ...,         nan,\n",
       "                nan,         nan],\n",
       "       [ 0.32949699,  1.        ,  0.11771157, ...,         nan,\n",
       "                nan,         nan],\n",
       "       [ 0.14883085,  0.11771157,  1.        , ...,         nan,\n",
       "                nan,         nan],\n",
       "       ...,\n",
       "       [ 0.75689798,  0.79614979,  0.71287669, ...,         nan,\n",
       "                nan,         nan],\n",
       "       [-0.21912884,  0.5874723 ,  0.34578862, ...,         nan,\n",
       "                nan,         nan],\n",
       "       [ 0.02433877,  0.43192313, -0.08695837, ...,         nan,\n",
       "                nan,         nan]])"
      ]
     },
     "execution_count": 66,
     "metadata": {},
     "output_type": "execute_result"
    }
   ],
   "source": [
    "def compute_item_similarity_matrix(user2movie):\n",
    "    '''\n",
    "    Compute item similarity matrix\n",
    "    args:\n",
    "        user2movie: np.array, user-movie rating matrix\n",
    "    returns:\n",
    "        similarity_matrix: np.array, item-item similarity\n",
    "    \n",
    "    '''\n",
    "    # compute mean for each user\n",
    "    x_mean = user2movie.sum(axis=0) / (user2movie!=0).sum(axis=0)\n",
    "    \n",
    "    # set up filter for zero entries\n",
    "    filt = (user2movie==0)\n",
    "    \n",
    "    # compute rating difference\n",
    "    rating_diff = user2movie - np.expand_dims(x_mean, axis=0)\n",
    "    rating_diff[filt] = 0\n",
    "\n",
    "    # compute similarity\n",
    "    similarity_matrix = np.matmul(rating_diff.T, rating_diff) / (np.matmul(rating_diff.T  ** 2, (rating_diff != 0)) * np.matmul(rating_diff.T  ** 2, (rating_diff != 0)).T) ** 0.5\n",
    "\n",
    "    return similarity_matrix\n",
    "\n",
    "similarity_matrix = compute_item_similarity_matrix(user2movie)\n",
    "similarity_matrix[:10]"
   ]
  },
  {
   "cell_type": "code",
   "execution_count": 67,
   "metadata": {
    "scrolled": true
   },
   "outputs": [
    {
     "data": {
      "text/plain": [
       "array([[ 0.        ,  0.32949699,  0.14883085, ...,  0.        ,\n",
       "         0.        ,  0.        ],\n",
       "       [ 0.32949699,  0.        ,  0.11771157, ...,  0.        ,\n",
       "         0.        ,  0.        ],\n",
       "       [ 0.14883085,  0.11771157,  0.        , ...,  0.        ,\n",
       "         0.        ,  0.        ],\n",
       "       ...,\n",
       "       [ 0.75689798,  0.79614979,  0.71287669, ...,  0.        ,\n",
       "         0.        ,  0.        ],\n",
       "       [-0.21912884,  0.5874723 ,  0.34578862, ...,  0.        ,\n",
       "         0.        ,  0.        ],\n",
       "       [ 0.02433877,  0.43192313, -0.08695837, ...,  0.        ,\n",
       "         0.        ,  0.        ]])"
      ]
     },
     "execution_count": 67,
     "metadata": {},
     "output_type": "execute_result"
    }
   ],
   "source": [
    "# set similarity with itself to 0\n",
    "similarity_matrix[np.arange(num_movies), np.arange(num_movies)] = 0\n",
    "similarity_matrix[np.isnan(similarity_matrix)] = 0\n",
    "similarity_matrix[:10]"
   ]
  },
  {
   "cell_type": "code",
   "execution_count": 68,
   "metadata": {
    "scrolled": true
   },
   "outputs": [
    {
     "name": "stderr",
     "output_type": "stream",
     "text": [
      "/Users/steevehuang/miniconda3/envs/py36/lib/python3.6/site-packages/ipykernel_launcher.py:11: RuntimeWarning: invalid value encountered in true_divide\n",
      "  # This is added back by InteractiveShellApp.init_path()\n",
      "/Users/steevehuang/miniconda3/envs/py36/lib/python3.6/site-packages/ipykernel_launcher.py:23: RuntimeWarning: invalid value encountered in true_divide\n"
     ]
    },
    {
     "data": {
      "text/plain": [
       "array([[3.91995938, 3.36217492, 3.19289318, ...,        nan,        nan,\n",
       "               nan],\n",
       "       [3.92128976, 3.3640285 , 3.19388683, ...,        nan,        nan,\n",
       "               nan],\n",
       "       [3.91963665, 3.36367295, 3.19216674, ...,        nan,        nan,\n",
       "               nan],\n",
       "       ...,\n",
       "       [3.92075554, 3.36605949, 3.1937442 , ...,        nan,        nan,\n",
       "               nan],\n",
       "       [3.92067407, 3.36313627, 3.1926433 , ...,        nan,        nan,\n",
       "               nan],\n",
       "       [3.92048034, 3.36408442, 3.19267732, ...,        nan,        nan,\n",
       "               nan]])"
      ]
     },
     "execution_count": 68,
     "metadata": {},
     "output_type": "execute_result"
    }
   ],
   "source": [
    "def compute_icf(user2movie, similarity_matrix):\n",
    "    '''\n",
    "    Compute prediction scores for all movies with item-based CF.\n",
    "    args:\n",
    "        user2movie: np.array, user-movie rating matrix\n",
    "    returns:\n",
    "        scores: np.array, predicted scores of each video for the target user\n",
    "    '''\n",
    "\n",
    "    # compute mean rating yk, ignoring zero entries, shape:(num_movies)\n",
    "    mean_ratings = np.sum(user2movie, axis=0) / (user2movie != 0 ).sum(axis=0)\n",
    "    \n",
    "    # compute ykj - yk, shape:(num_users, num_movies)\n",
    "    user2movie_diff = user2movie - np.expand_dims(mean_ratings, axis=0)\n",
    "    \n",
    "    # compute sum of similarities Σsimik, (num_movies,)\n",
    "    sim_sum = np.sum(np.abs(similarity_matrix), axis=1)\n",
    "    \n",
    "    # don't sum the unknown entries, set them to 0\n",
    "    user2movie_diff[np.where(user2movie == 0) ] = 0\n",
    "    \n",
    "    # compute weighted sum of rating diff (num_users, num_movies)\n",
    "    weighted_sum = np.matmul(user2movie_diff, similarity_matrix) / np.expand_dims(sim_sum, axis=0)\n",
    "\n",
    "    # add weighted sum to mean ratings\n",
    "    scores =  weighted_sum + np.expand_dims(mean_ratings, 0)\n",
    "    \n",
    "    return  scores\n",
    "\n",
    "predictions = compute_icf(user2movie, similarity_matrix) \n",
    "predictions[:10]"
   ]
  },
  {
   "cell_type": "code",
   "execution_count": 69,
   "metadata": {
    "scrolled": true
   },
   "outputs": [
    {
     "data": {
      "text/plain": [
       "0.8721779505007486"
      ]
     },
     "execution_count": 69,
     "metadata": {},
     "output_type": "execute_result"
    }
   ],
   "source": [
    "evaluate_prediction(predictions)"
   ]
  }
 ],
 "metadata": {
  "kernelspec": {
   "display_name": "Python 3",
   "language": "python",
   "name": "python3"
  },
  "language_info": {
   "codemirror_mode": {
    "name": "ipython",
    "version": 3
   },
   "file_extension": ".py",
   "mimetype": "text/x-python",
   "name": "python",
   "nbconvert_exporter": "python",
   "pygments_lexer": "ipython3",
   "version": "3.6.9"
  }
 },
 "nbformat": 4,
 "nbformat_minor": 2
}
