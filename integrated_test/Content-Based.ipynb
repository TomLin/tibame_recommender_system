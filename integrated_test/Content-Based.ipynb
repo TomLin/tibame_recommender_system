{
 "cells": [
  {
   "cell_type": "code",
   "execution_count": 1,
   "metadata": {},
   "outputs": [],
   "source": [
    "import numpy as np\n",
    "import pandas as pd"
   ]
  },
  {
   "cell_type": "code",
   "execution_count": 2,
   "metadata": {},
   "outputs": [
    {
     "data": {
      "text/html": [
       "<div>\n",
       "<style scoped>\n",
       "    .dataframe tbody tr th:only-of-type {\n",
       "        vertical-align: middle;\n",
       "    }\n",
       "\n",
       "    .dataframe tbody tr th {\n",
       "        vertical-align: top;\n",
       "    }\n",
       "\n",
       "    .dataframe thead th {\n",
       "        text-align: right;\n",
       "    }\n",
       "</style>\n",
       "<table border=\"1\" class=\"dataframe\">\n",
       "  <thead>\n",
       "    <tr style=\"text-align: right;\">\n",
       "      <th></th>\n",
       "      <th>timestamp</th>\n",
       "      <th>itemid</th>\n",
       "      <th>property</th>\n",
       "      <th>value</th>\n",
       "    </tr>\n",
       "  </thead>\n",
       "  <tbody>\n",
       "    <tr>\n",
       "      <th>0</th>\n",
       "      <td>1435460400000</td>\n",
       "      <td>460429</td>\n",
       "      <td>categoryid</td>\n",
       "      <td>1338</td>\n",
       "    </tr>\n",
       "    <tr>\n",
       "      <th>1</th>\n",
       "      <td>1441508400000</td>\n",
       "      <td>206783</td>\n",
       "      <td>888</td>\n",
       "      <td>1116713 960601 n277.200</td>\n",
       "    </tr>\n",
       "    <tr>\n",
       "      <th>2</th>\n",
       "      <td>1439089200000</td>\n",
       "      <td>395014</td>\n",
       "      <td>400</td>\n",
       "      <td>n552.000 639502 n720.000 424566</td>\n",
       "    </tr>\n",
       "    <tr>\n",
       "      <th>3</th>\n",
       "      <td>1431226800000</td>\n",
       "      <td>59481</td>\n",
       "      <td>790</td>\n",
       "      <td>n15360.000</td>\n",
       "    </tr>\n",
       "    <tr>\n",
       "      <th>4</th>\n",
       "      <td>1431831600000</td>\n",
       "      <td>156781</td>\n",
       "      <td>917</td>\n",
       "      <td>828513</td>\n",
       "    </tr>\n",
       "  </tbody>\n",
       "</table>\n",
       "</div>"
      ],
      "text/plain": [
       "       timestamp  itemid    property                            value\n",
       "0  1435460400000  460429  categoryid                             1338\n",
       "1  1441508400000  206783         888          1116713 960601 n277.200\n",
       "2  1439089200000  395014         400  n552.000 639502 n720.000 424566\n",
       "3  1431226800000   59481         790                       n15360.000\n",
       "4  1431831600000  156781         917                           828513"
      ]
     },
     "execution_count": 2,
     "metadata": {},
     "output_type": "execute_result"
    }
   ],
   "source": [
    "item_df = pd.concat([pd.read_csv('../ecommerce-dataset/item_properties_part1.csv'), pd.read_csv('../ecommerce-dataset/item_properties_part2.csv')], axis=0)\n",
    "item_df.head()"
   ]
  },
  {
   "cell_type": "code",
   "execution_count": 3,
   "metadata": {
    "scrolled": true
   },
   "outputs": [
    {
     "data": {
      "text/plain": [
       "(3000398, 4)"
      ]
     },
     "execution_count": 3,
     "metadata": {},
     "output_type": "execute_result"
    }
   ],
   "source": [
    "# 只使用 888 這個 property\n",
    "# filter only 888 properties\n",
    "\n",
    "item_df = item_df.loc[item_df.property=='888']\n",
    "item_df.shape"
   ]
  },
  {
   "cell_type": "code",
   "execution_count": 4,
   "metadata": {},
   "outputs": [
    {
     "data": {
      "text/plain": [
       "(417053, 4)"
      ]
     },
     "execution_count": 4,
     "metadata": {},
     "output_type": "execute_result"
    }
   ],
   "source": [
    "# 移除重複的 (itemid, property) pair\n",
    "# remove all snapshots except for the last one\n",
    "item_df.drop_duplicates(subset=['itemid','property'], keep='last', inplace=True)\n",
    "item_df.shape"
   ]
  },
  {
   "cell_type": "code",
   "execution_count": 5,
   "metadata": {},
   "outputs": [
    {
     "data": {
      "text/plain": [
       "array(['599031', '665993',\n",
       "       '150169 1219716 136963 442519 243135 656611 n96.000 1318853', ...,\n",
       "       '249879 724834 1172269', '5135 1233825',\n",
       "       '888666 n10800.000 746840 1318567'], dtype=object)"
      ]
     },
     "execution_count": 5,
     "metadata": {},
     "output_type": "execute_result"
    }
   ],
   "source": [
    "# 得到每一個物品的 888 的值\n",
    "# get 888 values\n",
    "features = item_df.value.values\n",
    "features"
   ]
  },
  {
   "cell_type": "code",
   "execution_count": 6,
   "metadata": {},
   "outputs": [
    {
     "data": {
      "text/plain": [
       "['599031',\n",
       " '665993',\n",
       " '150169 1219716 136963 442519 243135 656611 1318853',\n",
       " '1169506',\n",
       " '911581 794767']"
      ]
     },
     "execution_count": 6,
     "metadata": {},
     "output_type": "execute_result"
    }
   ],
   "source": [
    "# 888 中的移除數值\n",
    "# remove numerical values in strings\n",
    "import re\n",
    "\n",
    "def remove_numbers(text):\n",
    "    return re.sub(r'n[\\d.]+\\s*','',text)\n",
    "    \n",
    "features = [remove_numbers(f) for f in features]\n",
    "features[:5]"
   ]
  },
  {
   "cell_type": "code",
   "execution_count": 7,
   "metadata": {},
   "outputs": [
    {
     "data": {
      "text/plain": [
       "[['599031'],\n",
       " ['665993'],\n",
       " ['150169', '1219716', '136963', '442519', '243135', '656611', '1318853'],\n",
       " ['1169506'],\n",
       " ['911581', '794767']]"
      ]
     },
     "execution_count": 7,
     "metadata": {},
     "output_type": "execute_result"
    }
   ],
   "source": [
    "# 將 888按照空格切開來\n",
    "# split each feature\n",
    "features = [ f.split(' ') for f in features]\n",
    "features[:5]"
   ]
  },
  {
   "cell_type": "code",
   "execution_count": 8,
   "metadata": {},
   "outputs": [
    {
     "data": {
      "text/plain": [
       "(417053, 10000)"
      ]
     },
     "execution_count": 8,
     "metadata": {},
     "output_type": "execute_result"
    }
   ],
   "source": [
    "from collections import Counter\n",
    "from sklearn.feature_extraction.text import TfidfTransformer\n",
    "\n",
    "max_words = 10000\n",
    "def get_tfidf_matrix(title_overviews):\n",
    "    '''\n",
    "    args:\n",
    "        title_overviews: list(list(str)), list of list of string representing each document\n",
    "    return:\n",
    "        tfidf_matrix: np.array, TF-IDF matrix\n",
    "    '''\n",
    "    # get count of the matrix\n",
    "    counter = Counter(np.hstack(title_overviews))\n",
    "\n",
    "    # create mapping from word to index, get the most frequent 10000 words    \n",
    "    word2index =  {unique_word: idx for idx, (unique_word, count) in enumerate(sorted(counter.items(), key=lambda x:-x[1])) if idx < max_words}\n",
    "\n",
    "    #initialize empty count matrix\n",
    "    count_matrix = np.zeros([len(title_overviews), max_words], dtype=np.int32)\n",
    "    \n",
    "    # start counting terms\n",
    "    for idx, title_overview in enumerate(title_overviews):\n",
    "        for word in title_overview:\n",
    "            if word in word2index:\n",
    "                count_matrix[idx][word2index[word]] += 1\n",
    "    # tfidf\n",
    "    transformer = TfidfTransformer()\n",
    "    tfidf_matrix = transformer.fit_transform(count_matrix)\n",
    "    \n",
    "    # convert to numpy array for easier operation\n",
    "    return tfidf_matrix.toarray()\n",
    "tfidf_matrix = get_tfidf_matrix(features)\n",
    "tfidf_matrix.shape"
   ]
  },
  {
   "cell_type": "code",
   "execution_count": 9,
   "metadata": {},
   "outputs": [],
   "source": [
    "def get_most_similar_items(tfidf_matrix, idx, top_n):\n",
    "    '''\n",
    "    args:\n",
    "        tfidf_matrix: np.array, TF-IDF matrix\n",
    "        idx: int, index of the movie\n",
    "        top_n: int, how many recommendation to be returned\n",
    "    return:\n",
    "        most_similar_items: np.array, a list of  item index\n",
    "        \n",
    "    '''\n",
    "    # 1d array (max_words, )\n",
    "    tfidf_matrix[idx]\n",
    "    \n",
    "    # 2d array (num_movies, max_words)\n",
    "    tfidf_matrix\n",
    "    \n",
    "    # compute dot product to obtain similarity scores, output shape: (num_movies, )\n",
    "    scores = np.matmul(tfidf_matrix, tfidf_matrix[idx].reshape(-1,1)).reshape(-1)\n",
    "    \n",
    "    # obtain the highest score items, flip because arg\n",
    "    most_similar_items = np.flip(np.argsort(scores))\n",
    "    \n",
    "    # filter out the item itself\n",
    "    most_similar_items = most_similar_items[most_similar_items != idx][:top_n]\n",
    "    \n",
    "    return most_similar_items"
   ]
  },
  {
   "cell_type": "code",
   "execution_count": 10,
   "metadata": {},
   "outputs": [
    {
     "data": {
      "text/plain": [
       "'150169 1219716 136963 442519 243135 656611 n96.000 1318853'"
      ]
     },
     "execution_count": 10,
     "metadata": {},
     "output_type": "execute_result"
    }
   ],
   "source": [
    "# 我們隨便找一個物品來看他的888的值，比如說物品2\n",
    "# randomly pick an item, let's say item 2. Let's check its '888' value\n",
    "item_df.iloc[2].value"
   ]
  },
  {
   "cell_type": "code",
   "execution_count": 11,
   "metadata": {},
   "outputs": [
    {
     "data": {
      "text/plain": [
       "['150169 1219716 136963 594002 243135 656611 n120.000 1059040',\n",
       " '136963',\n",
       " '136963 1330788',\n",
       " '136963 874647',\n",
       " 'n31200.000 136963',\n",
       " '518169 n360.000 136963',\n",
       " '136963 532712',\n",
       " '136963 n3240.000',\n",
       " '136963 n38280.000',\n",
       " '635911 n747852.000 136963 1154859']"
      ]
     },
     "execution_count": 11,
     "metadata": {},
     "output_type": "execute_result"
    }
   ],
   "source": [
    "# 來看看和物品2最相關的物品的888的值\n",
    "# see most similar items\n",
    "item_df.iloc[get_most_similar_items(tfidf_matrix, 2, 10)].value.tolist()"
   ]
  },
  {
   "cell_type": "code",
   "execution_count": 12,
   "metadata": {},
   "outputs": [
    {
     "data": {
      "text/plain": [
       "'746623 621959 300207 n24.000 1072114 n64800.000 21263'"
      ]
     },
     "execution_count": 12,
     "metadata": {},
     "output_type": "execute_result"
    }
   ],
   "source": [
    "# 隨便再找一個物品，比如說物品123\n",
    "# pick another item 123\n",
    "item_df.iloc[123].value"
   ]
  },
  {
   "cell_type": "code",
   "execution_count": 13,
   "metadata": {},
   "outputs": [
    {
     "data": {
      "text/plain": [
       "['746623 621959 51776 n12.000 1072114 n64800.000 21263',\n",
       " '746623 621959 384019 n24.000 1072114 n64800.000 21263',\n",
       " '746623 621959 703975 n12.000 1072114 n64800.000 21263',\n",
       " '746623 621959 76474 n6000.000 1187104 n64800.000 21263',\n",
       " '746623 621959 547770 n6000.000 1187104 n64800.000 21263',\n",
       " '746623',\n",
       " '746623',\n",
       " '746623 1140809',\n",
       " 'n108004248.000 n108004248.000 n72.000 1072114 n86400.000 21263',\n",
       " '1274453 726994 726994 n12.000 1072114 n70800.000 21263']"
      ]
     },
     "execution_count": 13,
     "metadata": {},
     "output_type": "execute_result"
    }
   ],
   "source": [
    "# 來看看和物品123最相關的物品的888的值\n",
    "# see most similar items\n",
    "item_df.iloc[get_most_similar_items(tfidf_matrix, 123, 10)].value.tolist()"
   ]
  }
 ],
 "metadata": {
  "kernelspec": {
   "display_name": "Python 3",
   "language": "python",
   "name": "python3"
  },
  "language_info": {
   "codemirror_mode": {
    "name": "ipython",
    "version": 3
   },
   "file_extension": ".py",
   "mimetype": "text/x-python",
   "name": "python",
   "nbconvert_exporter": "python",
   "pygments_lexer": "ipython3",
   "version": "3.6.9"
  }
 },
 "nbformat": 4,
 "nbformat_minor": 2
}
