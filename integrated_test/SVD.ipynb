{
 "cells": [
  {
   "cell_type": "markdown",
   "metadata": {},
   "source": [
    "# SVD 範例"
   ]
  },
  {
   "cell_type": "code",
   "execution_count": 1,
   "metadata": {},
   "outputs": [],
   "source": [
    "import numpy as np\n",
    "import pandas as pd"
   ]
  },
  {
   "cell_type": "code",
   "execution_count": 2,
   "metadata": {
    "scrolled": true
   },
   "outputs": [
    {
     "data": {
      "text/html": [
       "<div>\n",
       "<style scoped>\n",
       "    .dataframe tbody tr th:only-of-type {\n",
       "        vertical-align: middle;\n",
       "    }\n",
       "\n",
       "    .dataframe tbody tr th {\n",
       "        vertical-align: top;\n",
       "    }\n",
       "\n",
       "    .dataframe thead th {\n",
       "        text-align: right;\n",
       "    }\n",
       "</style>\n",
       "<table border=\"1\" class=\"dataframe\">\n",
       "  <thead>\n",
       "    <tr style=\"text-align: right;\">\n",
       "      <th></th>\n",
       "      <th>timestamp</th>\n",
       "      <th>visitorid</th>\n",
       "      <th>event</th>\n",
       "      <th>itemid</th>\n",
       "      <th>transactionid</th>\n",
       "    </tr>\n",
       "  </thead>\n",
       "  <tbody>\n",
       "    <tr>\n",
       "      <th>0</th>\n",
       "      <td>1433221373311</td>\n",
       "      <td>781127</td>\n",
       "      <td>view</td>\n",
       "      <td>21989</td>\n",
       "      <td>NaN</td>\n",
       "    </tr>\n",
       "    <tr>\n",
       "      <th>1</th>\n",
       "      <td>1433222147345</td>\n",
       "      <td>1076270</td>\n",
       "      <td>view</td>\n",
       "      <td>262799</td>\n",
       "      <td>NaN</td>\n",
       "    </tr>\n",
       "    <tr>\n",
       "      <th>2</th>\n",
       "      <td>1433221380636</td>\n",
       "      <td>849453</td>\n",
       "      <td>view</td>\n",
       "      <td>123990</td>\n",
       "      <td>NaN</td>\n",
       "    </tr>\n",
       "    <tr>\n",
       "      <th>3</th>\n",
       "      <td>1433223176926</td>\n",
       "      <td>629333</td>\n",
       "      <td>view</td>\n",
       "      <td>128394</td>\n",
       "      <td>NaN</td>\n",
       "    </tr>\n",
       "    <tr>\n",
       "      <th>4</th>\n",
       "      <td>1433222897013</td>\n",
       "      <td>492414</td>\n",
       "      <td>view</td>\n",
       "      <td>279976</td>\n",
       "      <td>NaN</td>\n",
       "    </tr>\n",
       "  </tbody>\n",
       "</table>\n",
       "</div>"
      ],
      "text/plain": [
       "       timestamp  visitorid event  itemid  transactionid\n",
       "0  1433221373311     781127  view   21989            NaN\n",
       "1  1433222147345    1076270  view  262799            NaN\n",
       "2  1433221380636     849453  view  123990            NaN\n",
       "3  1433223176926     629333  view  128394            NaN\n",
       "4  1433222897013     492414  view  279976            NaN"
      ]
     },
     "execution_count": 2,
     "metadata": {},
     "output_type": "execute_result"
    }
   ],
   "source": [
    "rating_df = pd.read_csv('../ecommerce-dataset/events_small.csv')\n",
    "rating_df.head()"
   ]
  },
  {
   "cell_type": "code",
   "execution_count": 3,
   "metadata": {},
   "outputs": [
    {
     "data": {
      "text/html": [
       "<div>\n",
       "<style scoped>\n",
       "    .dataframe tbody tr th:only-of-type {\n",
       "        vertical-align: middle;\n",
       "    }\n",
       "\n",
       "    .dataframe tbody tr th {\n",
       "        vertical-align: top;\n",
       "    }\n",
       "\n",
       "    .dataframe thead th {\n",
       "        text-align: right;\n",
       "    }\n",
       "</style>\n",
       "<table border=\"1\" class=\"dataframe\">\n",
       "  <thead>\n",
       "    <tr style=\"text-align: right;\">\n",
       "      <th></th>\n",
       "      <th>timestamp</th>\n",
       "      <th>visitorid</th>\n",
       "      <th>event</th>\n",
       "      <th>itemid</th>\n",
       "      <th>transactionid</th>\n",
       "    </tr>\n",
       "  </thead>\n",
       "  <tbody>\n",
       "    <tr>\n",
       "      <th>34513</th>\n",
       "      <td>1430622118534</td>\n",
       "      <td>584571</td>\n",
       "      <td>view</td>\n",
       "      <td>436195</td>\n",
       "      <td>NaN</td>\n",
       "    </tr>\n",
       "    <tr>\n",
       "      <th>34476</th>\n",
       "      <td>1430622162554</td>\n",
       "      <td>837890</td>\n",
       "      <td>view</td>\n",
       "      <td>2519</td>\n",
       "      <td>NaN</td>\n",
       "    </tr>\n",
       "    <tr>\n",
       "      <th>34471</th>\n",
       "      <td>1430622330806</td>\n",
       "      <td>990356</td>\n",
       "      <td>view</td>\n",
       "      <td>369532</td>\n",
       "      <td>NaN</td>\n",
       "    </tr>\n",
       "    <tr>\n",
       "      <th>34484</th>\n",
       "      <td>1430622469247</td>\n",
       "      <td>584571</td>\n",
       "      <td>view</td>\n",
       "      <td>436195</td>\n",
       "      <td>NaN</td>\n",
       "    </tr>\n",
       "    <tr>\n",
       "      <th>34470</th>\n",
       "      <td>1430622609378</td>\n",
       "      <td>1002397</td>\n",
       "      <td>view</td>\n",
       "      <td>77392</td>\n",
       "      <td>NaN</td>\n",
       "    </tr>\n",
       "    <tr>\n",
       "      <th>34514</th>\n",
       "      <td>1430622790487</td>\n",
       "      <td>1375898</td>\n",
       "      <td>view</td>\n",
       "      <td>64152</td>\n",
       "      <td>NaN</td>\n",
       "    </tr>\n",
       "    <tr>\n",
       "      <th>34472</th>\n",
       "      <td>1430622933406</td>\n",
       "      <td>823085</td>\n",
       "      <td>view</td>\n",
       "      <td>131879</td>\n",
       "      <td>NaN</td>\n",
       "    </tr>\n",
       "    <tr>\n",
       "      <th>34477</th>\n",
       "      <td>1430623098261</td>\n",
       "      <td>1061274</td>\n",
       "      <td>view</td>\n",
       "      <td>356129</td>\n",
       "      <td>NaN</td>\n",
       "    </tr>\n",
       "    <tr>\n",
       "      <th>34485</th>\n",
       "      <td>1430623224021</td>\n",
       "      <td>823085</td>\n",
       "      <td>view</td>\n",
       "      <td>214519</td>\n",
       "      <td>NaN</td>\n",
       "    </tr>\n",
       "    <tr>\n",
       "      <th>34473</th>\n",
       "      <td>1430623241016</td>\n",
       "      <td>122517</td>\n",
       "      <td>view</td>\n",
       "      <td>232129</td>\n",
       "      <td>NaN</td>\n",
       "    </tr>\n",
       "  </tbody>\n",
       "</table>\n",
       "</div>"
      ],
      "text/plain": [
       "           timestamp  visitorid event  itemid  transactionid\n",
       "34513  1430622118534     584571  view  436195            NaN\n",
       "34476  1430622162554     837890  view    2519            NaN\n",
       "34471  1430622330806     990356  view  369532            NaN\n",
       "34484  1430622469247     584571  view  436195            NaN\n",
       "34470  1430622609378    1002397  view   77392            NaN\n",
       "34514  1430622790487    1375898  view   64152            NaN\n",
       "34472  1430622933406     823085  view  131879            NaN\n",
       "34477  1430623098261    1061274  view  356129            NaN\n",
       "34485  1430623224021     823085  view  214519            NaN\n",
       "34473  1430623241016     122517  view  232129            NaN"
      ]
     },
     "execution_count": 3,
     "metadata": {},
     "output_type": "execute_result"
    }
   ],
   "source": [
    "# 將數劇集按照時間大小由小排到大\n",
    "# sort data frame by timestemp for splitting\n",
    "rating_df = rating_df.sort_values('timestamp')\n",
    "rating_df.head(10)"
   ]
  },
  {
   "cell_type": "code",
   "execution_count": 4,
   "metadata": {},
   "outputs": [],
   "source": [
    "# map user id and movie id to integer starting from 0 to N (num of users) and M (num of items)\n",
    "from sklearn.preprocessing import LabelEncoder\n",
    "user_encoder = LabelEncoder()\n",
    "item_encoder = LabelEncoder()\n",
    "\n",
    "rating_df['visitorid'] = user_encoder.fit_transform(rating_df.visitorid)\n",
    "rating_df['itemid'] = item_encoder.fit_transform(rating_df.itemid)"
   ]
  },
  {
   "cell_type": "code",
   "execution_count": 5,
   "metadata": {},
   "outputs": [
    {
     "data": {
      "text/plain": [
       "(27372, 9098)"
      ]
     },
     "execution_count": 5,
     "metadata": {},
     "output_type": "execute_result"
    }
   ],
   "source": [
    "num_users = rating_df.visitorid.max()+1\n",
    "num_items = rating_df.itemid.max()+1\n",
    "num_users, num_items"
   ]
  },
  {
   "cell_type": "code",
   "execution_count": 6,
   "metadata": {
    "scrolled": true
   },
   "outputs": [
    {
     "data": {
      "text/html": [
       "<div>\n",
       "<style scoped>\n",
       "    .dataframe tbody tr th:only-of-type {\n",
       "        vertical-align: middle;\n",
       "    }\n",
       "\n",
       "    .dataframe tbody tr th {\n",
       "        vertical-align: top;\n",
       "    }\n",
       "\n",
       "    .dataframe thead th {\n",
       "        text-align: right;\n",
       "    }\n",
       "</style>\n",
       "<table border=\"1\" class=\"dataframe\">\n",
       "  <thead>\n",
       "    <tr style=\"text-align: right;\">\n",
       "      <th></th>\n",
       "      <th>timestamp</th>\n",
       "      <th>visitorid</th>\n",
       "      <th>event</th>\n",
       "      <th>itemid</th>\n",
       "      <th>transactionid</th>\n",
       "      <th>appearance</th>\n",
       "    </tr>\n",
       "  </thead>\n",
       "  <tbody>\n",
       "    <tr>\n",
       "      <th>34513</th>\n",
       "      <td>1430622118534</td>\n",
       "      <td>11315</td>\n",
       "      <td>view</td>\n",
       "      <td>8460</td>\n",
       "      <td>NaN</td>\n",
       "      <td>2.0</td>\n",
       "    </tr>\n",
       "    <tr>\n",
       "      <th>34476</th>\n",
       "      <td>1430622162554</td>\n",
       "      <td>16213</td>\n",
       "      <td>view</td>\n",
       "      <td>69</td>\n",
       "      <td>NaN</td>\n",
       "      <td>1.0</td>\n",
       "    </tr>\n",
       "    <tr>\n",
       "      <th>34471</th>\n",
       "      <td>1430622330806</td>\n",
       "      <td>19226</td>\n",
       "      <td>view</td>\n",
       "      <td>7229</td>\n",
       "      <td>NaN</td>\n",
       "      <td>2.0</td>\n",
       "    </tr>\n",
       "    <tr>\n",
       "      <th>34484</th>\n",
       "      <td>1430622469247</td>\n",
       "      <td>11315</td>\n",
       "      <td>view</td>\n",
       "      <td>8460</td>\n",
       "      <td>NaN</td>\n",
       "      <td>1.0</td>\n",
       "    </tr>\n",
       "    <tr>\n",
       "      <th>34470</th>\n",
       "      <td>1430622609378</td>\n",
       "      <td>19479</td>\n",
       "      <td>view</td>\n",
       "      <td>1573</td>\n",
       "      <td>NaN</td>\n",
       "      <td>2.0</td>\n",
       "    </tr>\n",
       "    <tr>\n",
       "      <th>34514</th>\n",
       "      <td>1430622790487</td>\n",
       "      <td>26737</td>\n",
       "      <td>view</td>\n",
       "      <td>1315</td>\n",
       "      <td>NaN</td>\n",
       "      <td>1.0</td>\n",
       "    </tr>\n",
       "    <tr>\n",
       "      <th>34472</th>\n",
       "      <td>1430622933406</td>\n",
       "      <td>15931</td>\n",
       "      <td>view</td>\n",
       "      <td>2638</td>\n",
       "      <td>NaN</td>\n",
       "      <td>3.0</td>\n",
       "    </tr>\n",
       "    <tr>\n",
       "      <th>34477</th>\n",
       "      <td>1430623098261</td>\n",
       "      <td>20675</td>\n",
       "      <td>view</td>\n",
       "      <td>6962</td>\n",
       "      <td>NaN</td>\n",
       "      <td>1.0</td>\n",
       "    </tr>\n",
       "    <tr>\n",
       "      <th>34485</th>\n",
       "      <td>1430623224021</td>\n",
       "      <td>15931</td>\n",
       "      <td>view</td>\n",
       "      <td>4263</td>\n",
       "      <td>NaN</td>\n",
       "      <td>2.0</td>\n",
       "    </tr>\n",
       "    <tr>\n",
       "      <th>34473</th>\n",
       "      <td>1430623241016</td>\n",
       "      <td>2310</td>\n",
       "      <td>view</td>\n",
       "      <td>4602</td>\n",
       "      <td>NaN</td>\n",
       "      <td>4.0</td>\n",
       "    </tr>\n",
       "    <tr>\n",
       "      <th>34495</th>\n",
       "      <td>1430623320178</td>\n",
       "      <td>9763</td>\n",
       "      <td>view</td>\n",
       "      <td>7806</td>\n",
       "      <td>NaN</td>\n",
       "      <td>2.0</td>\n",
       "    </tr>\n",
       "    <tr>\n",
       "      <th>34480</th>\n",
       "      <td>1430623362825</td>\n",
       "      <td>9763</td>\n",
       "      <td>view</td>\n",
       "      <td>7806</td>\n",
       "      <td>NaN</td>\n",
       "      <td>1.0</td>\n",
       "    </tr>\n",
       "    <tr>\n",
       "      <th>34500</th>\n",
       "      <td>1430623479871</td>\n",
       "      <td>15931</td>\n",
       "      <td>view</td>\n",
       "      <td>2638</td>\n",
       "      <td>NaN</td>\n",
       "      <td>1.0</td>\n",
       "    </tr>\n",
       "    <tr>\n",
       "      <th>34478</th>\n",
       "      <td>1430624675771</td>\n",
       "      <td>20116</td>\n",
       "      <td>view</td>\n",
       "      <td>3885</td>\n",
       "      <td>NaN</td>\n",
       "      <td>4.0</td>\n",
       "    </tr>\n",
       "    <tr>\n",
       "      <th>34498</th>\n",
       "      <td>1430624688999</td>\n",
       "      <td>20116</td>\n",
       "      <td>view</td>\n",
       "      <td>3885</td>\n",
       "      <td>NaN</td>\n",
       "      <td>3.0</td>\n",
       "    </tr>\n",
       "  </tbody>\n",
       "</table>\n",
       "</div>"
      ],
      "text/plain": [
       "           timestamp  visitorid event  itemid  transactionid  appearance\n",
       "34513  1430622118534      11315  view    8460            NaN         2.0\n",
       "34476  1430622162554      16213  view      69            NaN         1.0\n",
       "34471  1430622330806      19226  view    7229            NaN         2.0\n",
       "34484  1430622469247      11315  view    8460            NaN         1.0\n",
       "34470  1430622609378      19479  view    1573            NaN         2.0\n",
       "34514  1430622790487      26737  view    1315            NaN         1.0\n",
       "34472  1430622933406      15931  view    2638            NaN         3.0\n",
       "34477  1430623098261      20675  view    6962            NaN         1.0\n",
       "34485  1430623224021      15931  view    4263            NaN         2.0\n",
       "34473  1430623241016       2310  view    4602            NaN         4.0\n",
       "34495  1430623320178       9763  view    7806            NaN         2.0\n",
       "34480  1430623362825       9763  view    7806            NaN         1.0\n",
       "34500  1430623479871      15931  view    2638            NaN         1.0\n",
       "34478  1430624675771      20116  view    3885            NaN         4.0\n",
       "34498  1430624688999      20116  view    3885            NaN         3.0"
      ]
     },
     "execution_count": 6,
     "metadata": {},
     "output_type": "execute_result"
    }
   ],
   "source": [
    "# 按照visitorid分組，呼叫rank函數可以得到該點擊是該使用者第幾個點擊，這裡用asecending=False使最後一次點擊的appearance=1\n",
    "# group by visitorid and call \"rank\" to know the number of click for that user. We set ascending=false so that the\n",
    "# last click has appearance = 1\n",
    "\n",
    "rating_df['appearance'] = rating_df.groupby('visitorid').timestamp.rank(ascending=False)\n",
    "rating_df.head(15)"
   ]
  },
  {
   "cell_type": "code",
   "execution_count": 7,
   "metadata": {
    "scrolled": true
   },
   "outputs": [
    {
     "data": {
      "text/plain": [
       "((38766, 6), (27371, 6))"
      ]
     },
     "execution_count": 7,
     "metadata": {},
     "output_type": "execute_result"
    }
   ],
   "source": [
    "# train / val split\n",
    "train_df = rating_df.loc[rating_df.appearance>1]\n",
    "val_df = rating_df.loc[rating_df.appearance==1]\n",
    "train_df.shape, val_df.shape"
   ]
  },
  {
   "cell_type": "code",
   "execution_count": 8,
   "metadata": {},
   "outputs": [
    {
     "name": "stderr",
     "output_type": "stream",
     "text": [
      "/Users/steevehuang/miniconda3/envs/py36/lib/python3.6/site-packages/ipykernel_launcher.py:3: SettingWithCopyWarning: \n",
      "A value is trying to be set on a copy of a slice from a DataFrame\n",
      "\n",
      "See the caveats in the documentation: http://pandas.pydata.org/pandas-docs/stable/indexing.html#indexing-view-versus-copy\n",
      "  This is separate from the ipykernel package so we can avoid doing imports until\n"
     ]
    }
   ],
   "source": [
    "# 移除重複的(visitorid,itemid) pair\n",
    "# remove duplicate (visitorid,itemid) pair\n",
    "train_df.drop_duplicates(['visitorid','itemid'],inplace=True)"
   ]
  },
  {
   "cell_type": "code",
   "execution_count": 9,
   "metadata": {},
   "outputs": [
    {
     "data": {
      "text/plain": [
       "22743.0"
      ]
     },
     "execution_count": 9,
     "metadata": {},
     "output_type": "execute_result"
    }
   ],
   "source": [
    "from scipy.sparse import csr_matrix\n",
    "# 建立 user-item 評分矩陣\n",
    "# construct user-item rating matrix\n",
    "user2item = csr_matrix( (np.ones(len(train_df)), (train_df.visitorid.values ,train_df.itemid.values)), shape=(num_users, num_items), dtype=np.float32 )\n",
    "user2item.sum()"
   ]
  },
  {
   "cell_type": "code",
   "execution_count": 10,
   "metadata": {},
   "outputs": [],
   "source": [
    "'''\n",
    "Credit to https://gist.github.com/bwhite/3726239\n",
    "'''\n",
    "def mean_reciprocal_rank(rs):\n",
    "    \"\"\"Score is reciprocal of the rank of the first relevant item\n",
    "    First element is 'rank 1'.  Relevance is binary (nonzero is relevant).\n",
    "    Example from http://en.wikipedia.org/wiki/Mean_reciprocal_rank\n",
    "    >>> rs = [[0, 0, 1], [0, 1, 0], [1, 0, 0]]\n",
    "    >>> mean_reciprocal_rank(rs)\n",
    "    0.61111111111111105\n",
    "    >>> rs = np.array([[0, 0, 0], [0, 1, 0], [1, 0, 0]])\n",
    "    >>> mean_reciprocal_rank(rs)\n",
    "    0.5\n",
    "    >>> rs = [[0, 0, 0, 1], [1, 0, 0], [1, 0, 0]]\n",
    "    >>> mean_reciprocal_rank(rs)\n",
    "    0.75\n",
    "    Args:\n",
    "        rs: Iterator of relevance scores (list or numpy) in rank order\n",
    "            (first element is the first item)\n",
    "    Returns:\n",
    "        Mean reciprocal rank\n",
    "    \"\"\"\n",
    "    rs = (np.asarray(r).nonzero()[0] for r in rs)\n",
    "    return np.mean([1. / (r[0] + 1) if r.size else 0. for r in rs])\n"
   ]
  },
  {
   "cell_type": "code",
   "execution_count": 11,
   "metadata": {},
   "outputs": [],
   "source": [
    "def evaluate_prediction(predictions, val_user_ids, val_gts):\n",
    "    '''\n",
    "    Return the average mrr for each users\n",
    "    args:\n",
    "        predictions: np.array user-item predictions\n",
    "    returns:\n",
    "        ndcg: float, computed MRR\n",
    "    '''\n",
    "    rankings = np.flip(np.argsort(predictions, axis=1), axis=1)\n",
    "    hits = []\n",
    "    \n",
    "    # 迴圈跑過validation set每一個使用者和物品的pair\n",
    "    # iterate over user and item pair in the validation set\n",
    "    for target_user, val_gt in zip(val_user_ids, val_gts):\n",
    "        # get movie ids and ratings associated with the target user.\n",
    "\n",
    "        target_val_ratings = rankings[target_user]\n",
    "        hits.append(target_val_ratings == val_gt)\n",
    "        \n",
    "    mrr = mean_reciprocal_rank(hits)\n",
    "\n",
    "    return mrr"
   ]
  },
  {
   "cell_type": "code",
   "execution_count": 12,
   "metadata": {
    "scrolled": true
   },
   "outputs": [
    {
     "name": "stdout",
     "output_type": "stream",
     "text": [
      "r = 40, mrr= 0.07572181943021751\n",
      "r = 60, mrr= 0.08948583810567419\n",
      "r = 80, mrr= 0.1045077433010533\n",
      "r = 100, mrr= 0.1148180744785297\n"
     ]
    },
    {
     "data": {
      "text/plain": [
       "0.1148180744785297"
      ]
     },
     "execution_count": 12,
     "metadata": {},
     "output_type": "execute_result"
    }
   ],
   "source": [
    "from scipy.sparse.linalg import svds\n",
    "# 訓練以及評估 SVD模型 \n",
    "# train and evaluate the SVD model\n",
    "best_mrr = 0\n",
    "for r in range(40, 101, 20):\n",
    "    u, s, v = svds(user2item, k =100)\n",
    "    u.shape, s.shape, v.shape\n",
    "    predictions = np.matmul(u[:,:r] * s[:r][None,:], v[:r,:])\n",
    "    predictions[:10]\n",
    "    mrr = evaluate_prediction(predictions, val_df.visitorid.values, val_df.itemid.values)\n",
    "    best_mrr = max(mrr, best_mrr)\n",
    "    print( f\"r = {r}, mrr= {mrr}\" )\n",
    "best_mrr"
   ]
  }
 ],
 "metadata": {
  "kernelspec": {
   "display_name": "Python 3",
   "language": "python",
   "name": "python3"
  },
  "language_info": {
   "codemirror_mode": {
    "name": "ipython",
    "version": 3
   },
   "file_extension": ".py",
   "mimetype": "text/x-python",
   "name": "python",
   "nbconvert_exporter": "python",
   "pygments_lexer": "ipython3",
   "version": "3.6.9"
  }
 },
 "nbformat": 4,
 "nbformat_minor": 2
}
